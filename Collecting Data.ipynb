{
 "cells": [
  {
   "cell_type": "markdown",
   "metadata": {},
   "source": [
    "## Data collecting"
   ]
  },
  {
   "cell_type": "markdown",
   "metadata": {},
   "source": [
    "### Price and Volume"
   ]
  },
  {
   "cell_type": "markdown",
   "metadata": {},
   "source": [
    "1. We can use pandas_datareader to collect and save the data in dataframe. All we need are four parameters: stock lable, source, start data, and end date,"
   ]
  },
  {
   "cell_type": "code",
   "execution_count": 22,
   "metadata": {},
   "outputs": [],
   "source": [
    "import pandas_datareader.data as web"
   ]
  },
  {
   "cell_type": "code",
   "execution_count": 23,
   "metadata": {},
   "outputs": [],
   "source": [
    "# start date\n",
    "start = dt.datetime(2019, 1, 1)\n",
    "# end date\n",
    "end = dt.datetime(2020, 3, 13)\n",
    "# stock label and source\n",
    "df = web.DataReader('AAPL', 'yahoo', start, end)"
   ]
  },
  {
   "cell_type": "code",
   "execution_count": 24,
   "metadata": {},
   "outputs": [
    {
     "data": {
      "text/html": [
       "<div>\n",
       "<style scoped>\n",
       "    .dataframe tbody tr th:only-of-type {\n",
       "        vertical-align: middle;\n",
       "    }\n",
       "\n",
       "    .dataframe tbody tr th {\n",
       "        vertical-align: top;\n",
       "    }\n",
       "\n",
       "    .dataframe thead th {\n",
       "        text-align: right;\n",
       "    }\n",
       "</style>\n",
       "<table border=\"1\" class=\"dataframe\">\n",
       "  <thead>\n",
       "    <tr style=\"text-align: right;\">\n",
       "      <th></th>\n",
       "      <th>High</th>\n",
       "      <th>Low</th>\n",
       "      <th>Open</th>\n",
       "      <th>Close</th>\n",
       "      <th>Volume</th>\n",
       "      <th>Adj Close</th>\n",
       "    </tr>\n",
       "    <tr>\n",
       "      <th>Date</th>\n",
       "      <th></th>\n",
       "      <th></th>\n",
       "      <th></th>\n",
       "      <th></th>\n",
       "      <th></th>\n",
       "      <th></th>\n",
       "    </tr>\n",
       "  </thead>\n",
       "  <tbody>\n",
       "    <tr>\n",
       "      <th>2019-01-02</th>\n",
       "      <td>158.850006</td>\n",
       "      <td>154.229996</td>\n",
       "      <td>154.889999</td>\n",
       "      <td>157.919998</td>\n",
       "      <td>37039700.0</td>\n",
       "      <td>155.214005</td>\n",
       "    </tr>\n",
       "    <tr>\n",
       "      <th>2019-01-03</th>\n",
       "      <td>145.720001</td>\n",
       "      <td>142.000000</td>\n",
       "      <td>143.979996</td>\n",
       "      <td>142.190002</td>\n",
       "      <td>91312200.0</td>\n",
       "      <td>139.753540</td>\n",
       "    </tr>\n",
       "    <tr>\n",
       "      <th>2019-01-04</th>\n",
       "      <td>148.550003</td>\n",
       "      <td>143.800003</td>\n",
       "      <td>144.529999</td>\n",
       "      <td>148.259995</td>\n",
       "      <td>58607100.0</td>\n",
       "      <td>145.719513</td>\n",
       "    </tr>\n",
       "    <tr>\n",
       "      <th>2019-01-07</th>\n",
       "      <td>148.830002</td>\n",
       "      <td>145.899994</td>\n",
       "      <td>148.699997</td>\n",
       "      <td>147.929993</td>\n",
       "      <td>54777800.0</td>\n",
       "      <td>145.395203</td>\n",
       "    </tr>\n",
       "    <tr>\n",
       "      <th>2019-01-08</th>\n",
       "      <td>151.820007</td>\n",
       "      <td>148.520004</td>\n",
       "      <td>149.559998</td>\n",
       "      <td>150.750000</td>\n",
       "      <td>41025300.0</td>\n",
       "      <td>148.166870</td>\n",
       "    </tr>\n",
       "  </tbody>\n",
       "</table>\n",
       "</div>"
      ],
      "text/plain": [
       "                  High         Low        Open       Close      Volume  \\\n",
       "Date                                                                     \n",
       "2019-01-02  158.850006  154.229996  154.889999  157.919998  37039700.0   \n",
       "2019-01-03  145.720001  142.000000  143.979996  142.190002  91312200.0   \n",
       "2019-01-04  148.550003  143.800003  144.529999  148.259995  58607100.0   \n",
       "2019-01-07  148.830002  145.899994  148.699997  147.929993  54777800.0   \n",
       "2019-01-08  151.820007  148.520004  149.559998  150.750000  41025300.0   \n",
       "\n",
       "             Adj Close  \n",
       "Date                    \n",
       "2019-01-02  155.214005  \n",
       "2019-01-03  139.753540  \n",
       "2019-01-04  145.719513  \n",
       "2019-01-07  145.395203  \n",
       "2019-01-08  148.166870  "
      ]
     },
     "execution_count": 24,
     "metadata": {},
     "output_type": "execute_result"
    }
   ],
   "source": [
    "df.head()"
   ]
  },
  {
   "cell_type": "markdown",
   "metadata": {},
   "source": [
    "2. Use pd to scrape data from the website"
   ]
  },
  {
   "cell_type": "code",
   "execution_count": 6,
   "metadata": {},
   "outputs": [],
   "source": [
    "import pandas as pd\n",
    "url = 'https://finance.yahoo.com/screener/predefined/most_actives?count=100&offset=0'\n",
    "data = pd.read_html(url)[0]"
   ]
  },
  {
   "cell_type": "code",
   "execution_count": 7,
   "metadata": {},
   "outputs": [
    {
     "data": {
      "text/html": [
       "<div>\n",
       "<style scoped>\n",
       "    .dataframe tbody tr th:only-of-type {\n",
       "        vertical-align: middle;\n",
       "    }\n",
       "\n",
       "    .dataframe tbody tr th {\n",
       "        vertical-align: top;\n",
       "    }\n",
       "\n",
       "    .dataframe thead th {\n",
       "        text-align: right;\n",
       "    }\n",
       "</style>\n",
       "<table border=\"1\" class=\"dataframe\">\n",
       "  <thead>\n",
       "    <tr style=\"text-align: right;\">\n",
       "      <th></th>\n",
       "      <th>Symbol</th>\n",
       "      <th>Name</th>\n",
       "      <th>Price (Intraday)</th>\n",
       "      <th>Change</th>\n",
       "      <th>% Change</th>\n",
       "      <th>Volume</th>\n",
       "      <th>Avg Vol (3 month)</th>\n",
       "      <th>Market Cap</th>\n",
       "      <th>PE Ratio (TTM)</th>\n",
       "      <th>52 Week Range</th>\n",
       "    </tr>\n",
       "  </thead>\n",
       "  <tbody>\n",
       "    <tr>\n",
       "      <th>0</th>\n",
       "      <td>F</td>\n",
       "      <td>Ford Motor Company</td>\n",
       "      <td>5.19</td>\n",
       "      <td>-0.06</td>\n",
       "      <td>-1.14%</td>\n",
       "      <td>106.324M</td>\n",
       "      <td>82.103M</td>\n",
       "      <td>20.578B</td>\n",
       "      <td>519.00</td>\n",
       "      <td>NaN</td>\n",
       "    </tr>\n",
       "    <tr>\n",
       "      <th>1</th>\n",
       "      <td>GE</td>\n",
       "      <td>General Electric Company</td>\n",
       "      <td>7.62</td>\n",
       "      <td>-0.50</td>\n",
       "      <td>-6.16%</td>\n",
       "      <td>93.299M</td>\n",
       "      <td>82.557M</td>\n",
       "      <td>66.294B</td>\n",
       "      <td>NaN</td>\n",
       "      <td>NaN</td>\n",
       "    </tr>\n",
       "    <tr>\n",
       "      <th>2</th>\n",
       "      <td>BAC</td>\n",
       "      <td>Bank of America Corporation</td>\n",
       "      <td>21.60</td>\n",
       "      <td>-1.12</td>\n",
       "      <td>-4.93%</td>\n",
       "      <td>91.523M</td>\n",
       "      <td>77.085M</td>\n",
       "      <td>188.455B</td>\n",
       "      <td>7.85</td>\n",
       "      <td>NaN</td>\n",
       "    </tr>\n",
       "    <tr>\n",
       "      <th>3</th>\n",
       "      <td>AMD</td>\n",
       "      <td>Advanced Micro Devices, Inc.</td>\n",
       "      <td>46.58</td>\n",
       "      <td>-0.92</td>\n",
       "      <td>-1.94%</td>\n",
       "      <td>72.63M</td>\n",
       "      <td>73.033M</td>\n",
       "      <td>54.483B</td>\n",
       "      <td>155.27</td>\n",
       "      <td>NaN</td>\n",
       "    </tr>\n",
       "    <tr>\n",
       "      <th>4</th>\n",
       "      <td>CCL</td>\n",
       "      <td>Carnival Corporation &amp; Plc</td>\n",
       "      <td>14.41</td>\n",
       "      <td>-3.41</td>\n",
       "      <td>-19.14%</td>\n",
       "      <td>62.994M</td>\n",
       "      <td>21.516M</td>\n",
       "      <td>10.233B</td>\n",
       "      <td>3.34</td>\n",
       "      <td>NaN</td>\n",
       "    </tr>\n",
       "  </tbody>\n",
       "</table>\n",
       "</div>"
      ],
      "text/plain": [
       "  Symbol                          Name  Price (Intraday)  Change % Change  \\\n",
       "0      F            Ford Motor Company              5.19   -0.06   -1.14%   \n",
       "1     GE      General Electric Company              7.62   -0.50   -6.16%   \n",
       "2    BAC   Bank of America Corporation             21.60   -1.12   -4.93%   \n",
       "3    AMD  Advanced Micro Devices, Inc.             46.58   -0.92   -1.94%   \n",
       "4    CCL    Carnival Corporation & Plc             14.41   -3.41  -19.14%   \n",
       "\n",
       "     Volume Avg Vol (3 month) Market Cap  PE Ratio (TTM)  52 Week Range  \n",
       "0  106.324M           82.103M    20.578B          519.00            NaN  \n",
       "1   93.299M           82.557M    66.294B             NaN            NaN  \n",
       "2   91.523M           77.085M   188.455B            7.85            NaN  \n",
       "3    72.63M           73.033M    54.483B          155.27            NaN  \n",
       "4   62.994M           21.516M    10.233B            3.34            NaN  "
      ]
     },
     "execution_count": 7,
     "metadata": {},
     "output_type": "execute_result"
    }
   ],
   "source": [
    "data.head()"
   ]
  },
  {
   "cell_type": "markdown",
   "metadata": {},
   "source": [
    "### Company Info"
   ]
  },
  {
   "cell_type": "code",
   "execution_count": 8,
   "metadata": {},
   "outputs": [],
   "source": [
    "import yfinance as yf\n",
    "import time"
   ]
  },
  {
   "cell_type": "code",
   "execution_count": 17,
   "metadata": {},
   "outputs": [],
   "source": [
    "# call company info\n",
    "stk = yf.Ticker('A').info\n",
    "# columns\n",
    "col = list(stk.keys())\n",
    "# values\n",
    "val = list(stk.values())"
   ]
  },
  {
   "cell_type": "code",
   "execution_count": 19,
   "metadata": {},
   "outputs": [
    {
     "data": {
      "text/html": [
       "<div>\n",
       "<style scoped>\n",
       "    .dataframe tbody tr th:only-of-type {\n",
       "        vertical-align: middle;\n",
       "    }\n",
       "\n",
       "    .dataframe tbody tr th {\n",
       "        vertical-align: top;\n",
       "    }\n",
       "\n",
       "    .dataframe thead th {\n",
       "        text-align: right;\n",
       "    }\n",
       "</style>\n",
       "<table border=\"1\" class=\"dataframe\">\n",
       "  <thead>\n",
       "    <tr style=\"text-align: right;\">\n",
       "      <th></th>\n",
       "      <th>zip</th>\n",
       "      <th>sector</th>\n",
       "      <th>fullTimeEmployees</th>\n",
       "      <th>longBusinessSummary</th>\n",
       "      <th>city</th>\n",
       "      <th>phone</th>\n",
       "      <th>state</th>\n",
       "      <th>country</th>\n",
       "      <th>companyOfficers</th>\n",
       "      <th>website</th>\n",
       "      <th>...</th>\n",
       "      <th>earningsQuarterlyGrowth</th>\n",
       "      <th>dateShortInterest</th>\n",
       "      <th>pegRatio</th>\n",
       "      <th>lastCapGain</th>\n",
       "      <th>shortPercentOfFloat</th>\n",
       "      <th>sharesShortPriorMonth</th>\n",
       "      <th>category</th>\n",
       "      <th>fiveYearAverageReturn</th>\n",
       "      <th>regularMarketPrice</th>\n",
       "      <th>logo_url</th>\n",
       "    </tr>\n",
       "  </thead>\n",
       "  <tbody>\n",
       "    <tr>\n",
       "      <th>0</th>\n",
       "      <td>95051</td>\n",
       "      <td>Healthcare</td>\n",
       "      <td>16300</td>\n",
       "      <td>Agilent Technologies, Inc. provides applicatio...</td>\n",
       "      <td>Santa Clara</td>\n",
       "      <td>800 227 9770</td>\n",
       "      <td>CA</td>\n",
       "      <td>United States</td>\n",
       "      <td>[]</td>\n",
       "      <td>http://www.agilent.com</td>\n",
       "      <td>...</td>\n",
       "      <td>-0.609</td>\n",
       "      <td>1584057600</td>\n",
       "      <td>2.45</td>\n",
       "      <td>None</td>\n",
       "      <td>0.0183</td>\n",
       "      <td>4724925</td>\n",
       "      <td>None</td>\n",
       "      <td>None</td>\n",
       "      <td>71.55</td>\n",
       "      <td>https://logo.clearbit.com/agilent.com</td>\n",
       "    </tr>\n",
       "  </tbody>\n",
       "</table>\n",
       "<p>1 rows × 122 columns</p>\n",
       "</div>"
      ],
      "text/plain": [
       "     zip      sector fullTimeEmployees  \\\n",
       "0  95051  Healthcare             16300   \n",
       "\n",
       "                                 longBusinessSummary         city  \\\n",
       "0  Agilent Technologies, Inc. provides applicatio...  Santa Clara   \n",
       "\n",
       "          phone state        country companyOfficers                 website  \\\n",
       "0  800 227 9770    CA  United States              []  http://www.agilent.com   \n",
       "\n",
       "   ... earningsQuarterlyGrowth dateShortInterest pegRatio lastCapGain  \\\n",
       "0  ...                  -0.609        1584057600     2.45        None   \n",
       "\n",
       "  shortPercentOfFloat sharesShortPriorMonth category fiveYearAverageReturn  \\\n",
       "0              0.0183               4724925     None                  None   \n",
       "\n",
       "  regularMarketPrice                               logo_url  \n",
       "0              71.55  https://logo.clearbit.com/agilent.com  \n",
       "\n",
       "[1 rows x 122 columns]"
      ]
     },
     "execution_count": 19,
     "metadata": {},
     "output_type": "execute_result"
    }
   ],
   "source": [
    "df = pd.DataFrame(columns = col)\n",
    "df.loc[0, col] = val\n",
    "df.head()"
   ]
  },
  {
   "cell_type": "code",
   "execution_count": 20,
   "metadata": {},
   "outputs": [],
   "source": [
    "#stk_info_df = pd.DataFrame(index = stk_list.sort_values(), columns = cols)\n",
    "#for i in stk_info_df.index:\n",
    "#    print('processing:' + i)\n",
    "#    info_dict = yf.Ticker(i).info\n",
    "#    columns_included = list(info_dict.keys())\n",
    "#    stk_info_df.loc[i, columns_included] = list(info_dict.values())\n",
    "#    time.sleep(1)"
   ]
  },
  {
   "cell_type": "markdown",
   "metadata": {},
   "source": [
    "### Technical Index"
   ]
  },
  {
   "cell_type": "markdown",
   "metadata": {},
   "source": [
    "1. Talib"
   ]
  },
  {
   "cell_type": "code",
   "execution_count": 21,
   "metadata": {},
   "outputs": [],
   "source": [
    "import talib"
   ]
  },
  {
   "cell_type": "code",
   "execution_count": 25,
   "metadata": {},
   "outputs": [
    {
     "data": {
      "text/plain": [
       "Date\n",
       "2019-01-02          NaN\n",
       "2019-01-03          NaN\n",
       "2019-01-04          NaN\n",
       "2019-01-07          NaN\n",
       "2019-01-08          NaN\n",
       "                ...    \n",
       "2020-03-09    35.286777\n",
       "2020-03-10    44.605440\n",
       "2020-03-11    41.294936\n",
       "2020-03-12    33.865673\n",
       "2020-03-13    45.426472\n",
       "Length: 302, dtype: float64"
      ]
     },
     "execution_count": 25,
     "metadata": {},
     "output_type": "execute_result"
    }
   ],
   "source": [
    "talib.RSI(df.Close)"
   ]
  },
  {
   "cell_type": "markdown",
   "metadata": {},
   "source": [
    "2. Abstrach"
   ]
  },
  {
   "cell_type": "code",
   "execution_count": 26,
   "metadata": {},
   "outputs": [],
   "source": [
    "from talib import abstract"
   ]
  },
  {
   "cell_type": "code",
   "execution_count": 35,
   "metadata": {},
   "outputs": [
    {
     "data": {
      "text/plain": [
       "Date\n",
       "2019-01-02          NaN\n",
       "2019-01-03          NaN\n",
       "2019-01-04          NaN\n",
       "2019-01-07          NaN\n",
       "2019-01-08          NaN\n",
       "                ...    \n",
       "2020-03-09    35.286777\n",
       "2020-03-10    44.605440\n",
       "2020-03-11    41.294936\n",
       "2020-03-12    33.865673\n",
       "2020-03-13    45.426472\n",
       "Length: 302, dtype: float64"
      ]
     },
     "execution_count": 35,
     "metadata": {},
     "output_type": "execute_result"
    }
   ],
   "source": [
    "f = df.copy()\n",
    "# chagne column name\n",
    "f.rename(columns = {'Close': 'close', 'Open': 'open', 'High':'high', 'Low': 'low', 'Volume': 'volume'}, inplace = True)\n",
    "abstract.RSI(f)"
   ]
  },
  {
   "cell_type": "code",
   "execution_count": null,
   "metadata": {},
   "outputs": [],
   "source": []
  }
 ],
 "metadata": {
  "kernelspec": {
   "display_name": "Python 3",
   "language": "python",
   "name": "python3"
  },
  "language_info": {
   "codemirror_mode": {
    "name": "ipython",
    "version": 3
   },
   "file_extension": ".py",
   "mimetype": "text/x-python",
   "name": "python",
   "nbconvert_exporter": "python",
   "pygments_lexer": "ipython3",
   "version": "3.7.4"
  }
 },
 "nbformat": 4,
 "nbformat_minor": 4
}
